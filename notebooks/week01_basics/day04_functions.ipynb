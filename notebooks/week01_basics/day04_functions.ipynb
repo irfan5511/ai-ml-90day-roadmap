{
 "cells": [
  {
   "cell_type": "code",
   "execution_count": 2,
   "id": "145f256d-d29d-43a3-891b-05a400dd856b",
   "metadata": {},
   "outputs": [
    {
     "name": "stdout",
     "output_type": "stream",
     "text": [
      "welcome to ai/ml journey\n"
     ]
    }
   ],
   "source": [
    "def greet():\n",
    "    print (\"welcome to ai/ml journey\")\n",
    "greet()"
   ]
  },
  {
   "cell_type": "code",
   "execution_count": 3,
   "id": "e0e524cf-0097-495b-8e8c-81b9636ab296",
   "metadata": {},
   "outputs": [
    {
     "name": "stdout",
     "output_type": "stream",
     "text": [
      "sum is 13\n"
     ]
    }
   ],
   "source": [
    "def add(a,b):\n",
    "    return a+b\n",
    "result = add( 6,7)\n",
    "print (f\"sum is {result}\")"
   ]
  },
  {
   "cell_type": "code",
   "execution_count": 5,
   "id": "7a81374f-dc9b-4e71-9933-cf1786a6cab6",
   "metadata": {},
   "outputs": [
    {
     "name": "stdout",
     "output_type": "stream",
     "text": [
      "9\n",
      "32\n"
     ]
    }
   ],
   "source": [
    "def power(base, exp=2):\n",
    "    return base**exp\n",
    "\n",
    "print (power(3))\n",
    "print (power(2,5))"
   ]
  },
  {
   "cell_type": "code",
   "execution_count": 6,
   "id": "241cf8ae-7ada-40e9-818b-4da1c8269f98",
   "metadata": {},
   "outputs": [
    {
     "name": "stdout",
     "output_type": "stream",
     "text": [
      "Count: 4 Total: 100 Average: 25.0\n"
     ]
    }
   ],
   "source": [
    "def stats(nums):\n",
    "    n = len(nums)\n",
    "    total = sum(nums)\n",
    "    average = total / n if n else 0\n",
    "    return n, total, average\n",
    "\n",
    "count, total, avg = stats([10, 20, 30, 40])\n",
    "print(\"Count:\", count, \"Total:\", total, \"Average:\", avg)\n"
   ]
  },
  {
   "cell_type": "code",
   "execution_count": 7,
   "id": "a8f6b614-bd97-4f6b-9bd1-09974bb0d4cf",
   "metadata": {},
   "outputs": [
    {
     "name": "stdout",
     "output_type": "stream",
     "text": [
      "Inside function: 99\n",
      "Outside function: 10\n"
     ]
    }
   ],
   "source": [
    "x = 10\n",
    "\n",
    "def change_value():\n",
    "    x = 99\n",
    "    print(\"Inside function:\", x)\n",
    "\n",
    "change_value()\n",
    "print(\"Outside function:\", x)\n"
   ]
  },
  {
   "cell_type": "code",
   "execution_count": 8,
   "id": "672327ed-5455-41a5-aa68-631ad3e1984d",
   "metadata": {},
   "outputs": [
    {
     "name": "stdout",
     "output_type": "stream",
     "text": [
      "24\n"
     ]
    }
   ],
   "source": [
    "def multiply(a: int, b: int) -> int:\n",
    "    \"\"\"Return the product of two integers.\"\"\"\n",
    "    return a * b\n",
    "\n",
    "print(multiply(4, 6))\n"
   ]
  },
  {
   "cell_type": "code",
   "execution_count": 16,
   "id": "f39495d8-3d64-472c-bea7-07ab347aa3fc",
   "metadata": {},
   "outputs": [],
   "source": [
    "#Function to calculate BMI (rounded to 2 decimals)\n",
    "def bmi(weight, height):\n",
    "    return round(weight / height**2, 2)\n",
    "\n",
    "    "
   ]
  },
  {
   "cell_type": "code",
   "execution_count": 12,
   "id": "c0a78540-a7c1-41a4-acb1-821df4afbb36",
   "metadata": {},
   "outputs": [],
   "source": [
    "#Function to check if a word is palindrome\n",
    "def is_palindrome(word):\n",
    "    word = word.lower()\n",
    "    return word == word[::-1]\n"
   ]
  },
  {
   "cell_type": "code",
   "execution_count": 14,
   "id": "6601ce86-b49a-428a-8b11-efd481d728ed",
   "metadata": {},
   "outputs": [],
   "source": [
    "#Function to return grade based on score\n",
    "def grade(score):\n",
    "    if score >= 90:\n",
    "        return \"A\"\n",
    "    elif score >= 80:\n",
    "        return \"B\"\n",
    "    elif score >= 70:\n",
    "        return \"C\"\n",
    "    elif score >= 60:\n",
    "        return \"D\"\n",
    "    else:\n",
    "        return \"F\""
   ]
  },
  {
   "cell_type": "code",
   "execution_count": 15,
   "id": "a95b0be8-a884-43c3-8668-12dc943bc232",
   "metadata": {},
   "outputs": [],
   "source": [
    "#Function to sum even numbers in a list\n",
    "def sum_even(nums):\n",
    "    return sum(n for n in nums if n % 2 == 0)"
   ]
  },
  {
   "cell_type": "code",
   "execution_count": 17,
   "id": "a6e05301-b047-4055-90b9-a976f53f2408",
   "metadata": {},
   "outputs": [],
   "source": [
    "def print_squares():\n",
    "    nums = [1, 2, 3, 4, 5]\n",
    "    for n in nums:\n",
    "        print(f\"{n} squared is {n**2}\")"
   ]
  },
  {
   "cell_type": "code",
   "execution_count": null,
   "id": "1f5d97ce-5322-44ea-9776-0552d441411e",
   "metadata": {},
   "outputs": [],
   "source": []
  }
 ],
 "metadata": {
  "kernelspec": {
   "display_name": "ai-ml-90day",
   "language": "python",
   "name": "ai-ml-90day"
  },
  "language_info": {
   "codemirror_mode": {
    "name": "ipython",
    "version": 3
   },
   "file_extension": ".py",
   "mimetype": "text/x-python",
   "name": "python",
   "nbconvert_exporter": "python",
   "pygments_lexer": "ipython3",
   "version": "3.12.3"
  }
 },
 "nbformat": 4,
 "nbformat_minor": 5
}
