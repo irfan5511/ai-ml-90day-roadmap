{
 "cells": [
  {
   "cell_type": "code",
   "execution_count": 1,
   "id": "4691e5ee-b0a5-4654-a5fc-36f02382b432",
   "metadata": {},
   "outputs": [
    {
     "name": "stdout",
     "output_type": "stream",
     "text": [
      "You are a young adult.\n"
     ]
    }
   ],
   "source": [
    "age = 22\n",
    "if age < 18:\n",
    "    print(\"Your are a minor.\")\n",
    "elif age > 18:\n",
    "    print (\"You are a young adult.\")\n",
    "else:\n",
    "    print (\"You are a adult.\")"
   ]
  },
  {
   "cell_type": "code",
   "execution_count": 3,
   "id": "b9e64e84-2ac6-4d80-859e-db5946db36dc",
   "metadata": {},
   "outputs": [
    {
     "name": "stdout",
     "output_type": "stream",
     "text": [
      "1\n",
      "2\n",
      "3\n",
      "4\n",
      "5\n",
      "I like  apple\n",
      "I like  mango\n",
      "I like  cherry\n"
     ]
    }
   ],
   "source": [
    "#print num 1 to 6\n",
    "for i in range(1,6):\n",
    "    print(i)\n",
    "fruits = [\"apple\",\"mango\",\"cherry\"]\n",
    "for fruit in fruits:\n",
    "    print(\"I like \", fruit)"
   ]
  },
  {
   "cell_type": "code",
   "execution_count": 10,
   "id": "b70cfcaf-d687-4d54-b1a8-60d7b6b62778",
   "metadata": {},
   "outputs": [
    {
     "name": "stdout",
     "output_type": "stream",
     "text": [
      "Count  5\n",
      "Count  4\n",
      "Count  3\n",
      "Count  2\n",
      "Count  1\n",
      "Count  0\n",
      "Blast off 🚀\n"
     ]
    }
   ],
   "source": [
    "count = 5\n",
    "while count >= 0:\n",
    "    print (\"Count \", count)\n",
    "    count -=1\n",
    "print(\"Blast off 🚀\")"
   ]
  },
  {
   "cell_type": "code",
   "execution_count": 11,
   "id": "2d4c9bac-3378-49ab-873f-c50d163a33a5",
   "metadata": {},
   "outputs": [
    {
     "name": "stdout",
     "output_type": "stream",
     "text": [
      "positive:  3\n"
     ]
    }
   ],
   "source": [
    "number = 3\n",
    "if number > 0:\n",
    "    print(\"positive: \",number)\n",
    "elif number < 0:\n",
    "    print(\"negative: \",number)\n",
    "else:\n",
    "    print (\"zero \",number)\n"
   ]
  },
  {
   "cell_type": "code",
   "execution_count": 14,
   "id": "b02495d2-ce4d-46a2-aec1-c3c7ae23d478",
   "metadata": {},
   "outputs": [
    {
     "name": "stdout",
     "output_type": "stream",
     "text": [
      "even numbers:  2\n",
      "even numbers:  4\n",
      "even numbers:  6\n",
      "even numbers:  8\n",
      "even numbers:  10\n",
      "even numbers:  12\n",
      "even numbers:  14\n",
      "even numbers:  16\n",
      "even numbers:  18\n",
      "even numbers:  20\n"
     ]
    }
   ],
   "source": [
    "#from 1 to 20 print only even numbers\n",
    "for i in range (1 , 21):\n",
    "    if i%2 == 0:\n",
    "        print(\"even numbers: \", i)"
   ]
  },
  {
   "cell_type": "code",
   "execution_count": null,
   "id": "ee5ea0b5-9a16-4c40-b835-4c23f81c134e",
   "metadata": {},
   "outputs": [],
   "source": [
    "#Create a list of names (at least 5). Use a loop to print:\n",
    "names = [\"Irfan\", \"Jamal\",\"Waleed\",\"Ajmal\",\"Noor\"]\n",
    "for name in names:\n",
    "    print (f\"hello {name}\")"
   ]
  },
  {
   "cell_type": "code",
   "execution_count": null,
   "id": "0b8d28e7-1c54-4ac5-9ee9-25e986bc9eb9",
   "metadata": {},
   "outputs": [],
   "source": [
    "count = 10\n",
    "while count < 0:\n",
    "    print(\"count: \",count)\n",
    "    count -=1\n",
    "print(\"Done\")"
   ]
  },
  {
   "cell_type": "code",
   "execution_count": null,
   "id": "16508ed0-61d9-488d-8b18-8b756c6b0d38",
   "metadata": {},
   "outputs": [],
   "source": []
  }
 ],
 "metadata": {
  "kernelspec": {
   "display_name": "ai-ml-90day",
   "language": "python",
   "name": "ai-ml-90day"
  },
  "language_info": {
   "codemirror_mode": {
    "name": "ipython",
    "version": 3
   },
   "file_extension": ".py",
   "mimetype": "text/x-python",
   "name": "python",
   "nbconvert_exporter": "python",
   "pygments_lexer": "ipython3",
   "version": "3.12.3"
  }
 },
 "nbformat": 4,
 "nbformat_minor": 5
}
