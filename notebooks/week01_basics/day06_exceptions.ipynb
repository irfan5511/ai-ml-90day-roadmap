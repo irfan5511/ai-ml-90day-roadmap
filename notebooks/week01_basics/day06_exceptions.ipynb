{
 "cells": [
  {
   "cell_type": "code",
   "execution_count": 1,
   "id": "fd7acd81-1d63-481d-8139-f032b4ae5480",
   "metadata": {},
   "outputs": [
    {
     "name": "stdin",
     "output_type": "stream",
     "text": [
      "Enter a number:  12\n"
     ]
    },
    {
     "name": "stdout",
     "output_type": "stream",
     "text": [
      "✅ Result: 0.8333333333333334\n",
      "Process complete.\n"
     ]
    }
   ],
   "source": [
    "try:\n",
    "    num = int(input(\"Enter a number: \"))\n",
    "    result = 10 / num\n",
    "except ValueError:\n",
    "    print(\"❌ Please enter a valid integer.\")\n",
    "except ZeroDivisionError:\n",
    "    print(\"⚠️ Cannot divide by zero.\")\n",
    "else:\n",
    "    print(f\"✅ Result: {result}\")\n",
    "finally:\n",
    "    print(\"Process complete.\")\n"
   ]
  },
  {
   "cell_type": "code",
   "execution_count": 2,
   "id": "613d8ed7-2126-40ba-a8de-8e4ee6d3850f",
   "metadata": {},
   "outputs": [
    {
     "name": "stdin",
     "output_type": "stream",
     "text": [
      "Enter your age:  2\n"
     ]
    },
    {
     "name": "stdout",
     "output_type": "stream",
     "text": [
      "✅ Age accepted\n"
     ]
    }
   ],
   "source": [
    "def validate_age(age):\n",
    "    assert age > 0, \"Age must be positive\"\n",
    "    assert age < 120, \"Unrealistic age\"\n",
    "    return \"✅ Age accepted\"\n",
    "\n",
    "try:\n",
    "    age = int(input(\"Enter your age: \"))\n",
    "    print(validate_age(age))\n",
    "except AssertionError as e:\n",
    "    print(f\"Validation error: {e}\")\n",
    "except Exception as e:\n",
    "    print(f\"Unexpected error: {e}\")\n"
   ]
  },
  {
   "cell_type": "code",
   "execution_count": 3,
   "id": "56ecb9ae-c2a3-4cc2-adad-807c29c0df1e",
   "metadata": {},
   "outputs": [
    {
     "name": "stdout",
     "output_type": "stream",
     "text": [
      "⚠️ Skipped row: Invalid age for Bob\n",
      "✅ Valid rows: [{'name': 'Alice', 'age': '25'}, {'name': 'Charlie', 'age': '30'}]\n"
     ]
    }
   ],
   "source": [
    "import csv\n",
    "\n",
    "with open(\"data/processed/users.csv\", \"w\", newline=\"\", encoding=\"utf-8\") as f:\n",
    "    writer = csv.writer(f)\n",
    "    writer.writerow([\"name\", \"age\"])\n",
    "    writer.writerows([[\"Alice\", 25], [\"Bob\", -2], [\"Charlie\", 30]])\n",
    "\n",
    "valid_rows = []\n",
    "with open(\"data/processed/users.csv\", \"r\", encoding=\"utf-8\") as f:\n",
    "    reader = csv.DictReader(f)\n",
    "    for row in reader:\n",
    "        try:\n",
    "            age = int(row[\"age\"])\n",
    "            assert age >= 0, f\"Invalid age for {row['name']}\"\n",
    "            valid_rows.append(row)\n",
    "        except Exception as e:\n",
    "            print(f\"⚠️ Skipped row: {e}\")\n",
    "\n",
    "print(\"✅ Valid rows:\", valid_rows)\n"
   ]
  },
  {
   "cell_type": "code",
   "execution_count": null,
   "id": "48903239-a45d-415a-8f3e-f296f93a86d8",
   "metadata": {},
   "outputs": [],
   "source": []
  }
 ],
 "metadata": {
  "kernelspec": {
   "display_name": "ai-ml-90day",
   "language": "python",
   "name": "ai-ml-90day"
  },
  "language_info": {
   "codemirror_mode": {
    "name": "ipython",
    "version": 3
   },
   "file_extension": ".py",
   "mimetype": "text/x-python",
   "name": "python",
   "nbconvert_exporter": "python",
   "pygments_lexer": "ipython3",
   "version": "3.12.3"
  }
 },
 "nbformat": 4,
 "nbformat_minor": 5
}
