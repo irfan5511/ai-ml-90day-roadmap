{
 "cells": [
  {
   "cell_type": "code",
   "execution_count": 7,
   "id": "5fbed60d-aa8c-49e7-aaef-756e3a022ab1",
   "metadata": {},
   "outputs": [
    {
     "name": "stdout",
     "output_type": "stream",
     "text": [
      "Wrote reports/day05_log.txt\n"
     ]
    }
   ],
   "source": [
    "import os\n",
    "os.makedirs(\"reports\", exist_ok=True)         # for the log file\n",
    "os.makedirs(\"data/processed\", exist_ok=True)  # for the CSVs later\n",
    "\n",
    "# Write a simple log file\n",
    "text = \"\"\"Day 05 log\n",
    "- learned open/read/write\n",
    "- created and read CSV\n",
    "\"\"\"\n",
    "with open(\"reports/day05_log.txt\", \"w\", encoding=\"utf-8\") as f:\n",
    "    f.write(text)\n",
    "\n",
    "print(\"Wrote reports/day05_log.txt\")\n"
   ]
  },
  {
   "cell_type": "code",
   "execution_count": 1,
   "id": "42a0c29e-924f-4f7a-a17d-77558bd04394",
   "metadata": {},
   "outputs": [
    {
     "name": "stdout",
     "output_type": "stream",
     "text": [
      "Day 05 log\n",
      "- learned open/read/write\n",
      "- created and read CSV\n",
      "\n"
     ]
    }
   ],
   "source": [
    "with open(\"reports/day05_log.txt\", \"r\", encoding=\"utf-8\") as f:\n",
    "    content = f.read()\n",
    "print(content)\n"
   ]
  },
  {
   "cell_type": "code",
   "execution_count": 2,
   "id": "0f782f1b-47b9-4167-9c74-7abdbec396df",
   "metadata": {},
   "outputs": [
    {
     "data": {
      "text/plain": [
       "['Day 05 log', '- learned open/read/write', '- created and read CSV']"
      ]
     },
     "execution_count": 2,
     "metadata": {},
     "output_type": "execute_result"
    }
   ],
   "source": [
    "lines = []\n",
    "with open(\"reports/day05_log.txt\", \"r\", encoding=\"utf-8\") as f:\n",
    "    for line in f:\n",
    "        lines.append(line.strip())\n",
    "lines\n"
   ]
  },
  {
   "cell_type": "code",
   "execution_count": 3,
   "id": "df70e483-9853-4310-ad50-d5025c949a4c",
   "metadata": {},
   "outputs": [
    {
     "name": "stdout",
     "output_type": "stream",
     "text": [
      "Wrote data/processed/day05_expenses.csv\n"
     ]
    }
   ],
   "source": [
    "import os, csv\n",
    "os.makedirs(\"data/processed\", exist_ok=True)\n",
    "\n",
    "rows = [\n",
    "    [\"id\", \"name\", \"price\", \"qty\"],\n",
    "    [1, \"tea\", 1.50, 2],\n",
    "    [2, \"biscuits\", 0.80, 3],\n",
    "    [3, \"bus_ticket\", 2.00, 1],\n",
    "]\n",
    "\n",
    "csv_path = \"data/processed/day05_expenses.csv\"\n",
    "with open(csv_path, \"w\", newline=\"\", encoding=\"utf-8\") as f:\n",
    "    writer = csv.writer(f)\n",
    "    writer.writerows(rows)\n",
    "\n",
    "print(\"Wrote\", csv_path)\n"
   ]
  },
  {
   "cell_type": "code",
   "execution_count": 4,
   "id": "8263d22b-6a16-4394-aa02-a3936d62d6ba",
   "metadata": {},
   "outputs": [
    {
     "data": {
      "text/plain": [
       "[{'id': '1', 'name': 'tea', 'price': '1.5', 'qty': '2'},\n",
       " {'id': '2', 'name': 'biscuits', 'price': '0.8', 'qty': '3'},\n",
       " {'id': '3', 'name': 'bus_ticket', 'price': '2.0', 'qty': '1'}]"
      ]
     },
     "execution_count": 4,
     "metadata": {},
     "output_type": "execute_result"
    }
   ],
   "source": [
    "with open(csv_path, \"r\", newline=\"\", encoding=\"utf-8\") as f:\n",
    "    reader = csv.DictReader(f)\n",
    "    data = list(reader)\n",
    "data\n"
   ]
  },
  {
   "cell_type": "code",
   "execution_count": 5,
   "id": "1fdc6a86-0b6a-4910-beea-56d0276268c6",
   "metadata": {},
   "outputs": [
    {
     "name": "stdout",
     "output_type": "stream",
     "text": [
      "Total spent: 7.4\n"
     ]
    }
   ],
   "source": [
    "total = sum(float(r[\"price\"]) * int(r[\"qty\"]) for r in data)\n",
    "print(\"Total spent:\", round(total, 2))\n"
   ]
  },
  {
   "cell_type": "code",
   "execution_count": 6,
   "id": "5a9eecdc-0463-4e5a-9b2e-4c8469093a1c",
   "metadata": {},
   "outputs": [
    {
     "data": {
      "text/html": [
       "<div>\n",
       "<style scoped>\n",
       "    .dataframe tbody tr th:only-of-type {\n",
       "        vertical-align: middle;\n",
       "    }\n",
       "\n",
       "    .dataframe tbody tr th {\n",
       "        vertical-align: top;\n",
       "    }\n",
       "\n",
       "    .dataframe thead th {\n",
       "        text-align: right;\n",
       "    }\n",
       "</style>\n",
       "<table border=\"1\" class=\"dataframe\">\n",
       "  <thead>\n",
       "    <tr style=\"text-align: right;\">\n",
       "      <th></th>\n",
       "      <th>id</th>\n",
       "      <th>name</th>\n",
       "      <th>price</th>\n",
       "      <th>qty</th>\n",
       "    </tr>\n",
       "  </thead>\n",
       "  <tbody>\n",
       "    <tr>\n",
       "      <th>0</th>\n",
       "      <td>1</td>\n",
       "      <td>tea</td>\n",
       "      <td>1.5</td>\n",
       "      <td>2</td>\n",
       "    </tr>\n",
       "    <tr>\n",
       "      <th>1</th>\n",
       "      <td>2</td>\n",
       "      <td>biscuits</td>\n",
       "      <td>0.8</td>\n",
       "      <td>3</td>\n",
       "    </tr>\n",
       "    <tr>\n",
       "      <th>2</th>\n",
       "      <td>3</td>\n",
       "      <td>bus_ticket</td>\n",
       "      <td>2.0</td>\n",
       "      <td>1</td>\n",
       "    </tr>\n",
       "  </tbody>\n",
       "</table>\n",
       "</div>"
      ],
      "text/plain": [
       "   id        name  price  qty\n",
       "0   1         tea    1.5    2\n",
       "1   2    biscuits    0.8    3\n",
       "2   3  bus_ticket    2.0    1"
      ]
     },
     "execution_count": 6,
     "metadata": {},
     "output_type": "execute_result"
    }
   ],
   "source": [
    "import pandas as pd\n",
    "\n",
    "df = pd.read_csv(csv_path)\n",
    "df\n"
   ]
  },
  {
   "cell_type": "code",
   "execution_count": 7,
   "id": "857dacce-ad46-4580-91c8-a1a7578ae2cd",
   "metadata": {},
   "outputs": [
    {
     "data": {
      "text/plain": [
       "{'rows': 3, 'total_spent': np.float64(7.4), 'avg_price': np.float64(1.43)}"
      ]
     },
     "execution_count": 7,
     "metadata": {},
     "output_type": "execute_result"
    }
   ],
   "source": [
    "df[\"line_total\"] = df[\"price\"] * df[\"qty\"]\n",
    "summary = {\n",
    "    \"rows\": len(df),\n",
    "    \"total_spent\": round(df[\"line_total\"].sum(), 2),\n",
    "    \"avg_price\": round(df[\"price\"].mean(), 2),\n",
    "}\n",
    "summary\n"
   ]
  },
  {
   "cell_type": "code",
   "execution_count": 8,
   "id": "cb110b16-8b98-45d4-92db-5cb7f5b86922",
   "metadata": {},
   "outputs": [
    {
     "data": {
      "text/plain": [
       "'data/processed/day05_expenses_clean.csv'"
      ]
     },
     "execution_count": 8,
     "metadata": {},
     "output_type": "execute_result"
    }
   ],
   "source": [
    "clean_path = \"data/processed/day05_expenses_clean.csv\"\n",
    "df.to_csv(clean_path, index=False)\n",
    "clean_path\n"
   ]
  },
  {
   "cell_type": "code",
   "execution_count": 9,
   "id": "a371ade7-9aa0-46d8-8f2b-7f3f8938ceaf",
   "metadata": {},
   "outputs": [
    {
     "name": "stdout",
     "output_type": "stream",
     "text": [
      "File not found: data/processed/does_not_exist.csv\n"
     ]
    }
   ],
   "source": [
    "def load_csv(path: str) -> pd.DataFrame:\n",
    "    import pandas as pd\n",
    "    try:\n",
    "        return pd.read_csv(path)\n",
    "    except FileNotFoundError:\n",
    "        print(\"File not found:\", path)\n",
    "        return pd.DataFrame()\n",
    "    except pd.errors.EmptyDataError:\n",
    "        print(\"CSV is empty:\", path)\n",
    "        return pd.DataFrame()\n",
    "\n",
    "_ = load_csv(\"data/processed/does_not_exist.csv\")\n"
   ]
  },
  {
   "cell_type": "code",
   "execution_count": null,
   "id": "72916b93-05ca-430a-8f64-8b9ca51dc7ad",
   "metadata": {},
   "outputs": [],
   "source": []
  }
 ],
 "metadata": {
  "kernelspec": {
   "display_name": "ai-ml-90day",
   "language": "python",
   "name": "ai-ml-90day"
  },
  "language_info": {
   "codemirror_mode": {
    "name": "ipython",
    "version": 3
   },
   "file_extension": ".py",
   "mimetype": "text/x-python",
   "name": "python",
   "nbconvert_exporter": "python",
   "pygments_lexer": "ipython3",
   "version": "3.12.3"
  }
 },
 "nbformat": 4,
 "nbformat_minor": 5
}
