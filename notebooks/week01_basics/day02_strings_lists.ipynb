{
 "cells": [
  {
   "cell_type": "code",
   "execution_count": 1,
   "id": "abe578f2-8faa-48fb-9787-bd1a2864f9d8",
   "metadata": {},
   "outputs": [
    {
     "name": "stdout",
     "output_type": "stream",
     "text": [
      "Length of name: 5\n",
      "Uppercase: IRFAN\n",
      "Lowercase: ai ml roadmap\n",
      "First 3 letters: Irf\n",
      "Last 2 letters: an\n",
      "Concatenation: Irfan is learning AI ML Roadmap\n"
     ]
    }
   ],
   "source": [
    "# Strings\n",
    "name = \"Irfan\"\n",
    "course = \"AI ML Roadmap\"\n",
    "\n",
    "print(\"Length of name:\", len(name))\n",
    "print(\"Uppercase:\", name.upper())\n",
    "print(\"Lowercase:\", course.lower())\n",
    "print(\"First 3 letters:\", name[:3])\n",
    "print(\"Last 2 letters:\", name[-2:])\n",
    "print(\"Concatenation:\", name + \" is learning \" + course)\n"
   ]
  },
  {
   "cell_type": "code",
   "execution_count": 2,
   "id": "37b4f493-9140-44d8-a88e-8a410d57dc9d",
   "metadata": {},
   "outputs": [
    {
     "name": "stdout",
     "output_type": "stream",
     "text": [
      "All fruits: ['apple', 'banana', 'cherry']\n",
      "First fruit: apple\n",
      "Last fruit: cherry\n",
      "After append: ['apple', 'banana', 'cherry', 'mango']\n",
      "After remove: ['apple', 'cherry', 'mango']\n",
      "Slice first 2: ['apple', 'cherry']\n"
     ]
    }
   ],
   "source": [
    "# Lists\n",
    "fruits = [\"apple\", \"banana\", \"cherry\"]\n",
    "\n",
    "print(\"All fruits:\", fruits)\n",
    "print(\"First fruit:\", fruits[0])\n",
    "print(\"Last fruit:\", fruits[-1])\n",
    "\n",
    "fruits.append(\"mango\")\n",
    "print(\"After append:\", fruits)\n",
    "\n",
    "fruits.remove(\"banana\")\n",
    "print(\"After remove:\", fruits)\n",
    "\n",
    "print(\"Slice first 2:\", fruits[:2])\n"
   ]
  },
  {
   "cell_type": "code",
   "execution_count": 3,
   "id": "db4803e5-0614-466c-808a-b63531c09175",
   "metadata": {},
   "outputs": [
    {
     "name": "stdout",
     "output_type": "stream",
     "text": [
      "IRFAN ULLAH\n"
     ]
    }
   ],
   "source": [
    "#strings storing name and printing in upper\n",
    "full_name = \"Irfan ullah\"\n",
    "print(full_name.upper())"
   ]
  },
  {
   "cell_type": "code",
   "execution_count": 4,
   "id": "cf31576a-5b36-4682-852c-84ec3a791ec2",
   "metadata": {},
   "outputs": [
    {
     "name": "stdout",
     "output_type": "stream",
     "text": [
      "['mango', 'pear', 'cherry', 'watermelon', 'banana']\n"
     ]
    }
   ],
   "source": [
    "#list of favourite fruits\n",
    "fav_fruits = [\"mango\", \"apple\",\"pear\",\"cherry\", \"watermelon\"]\n",
    "#add one fruit \n",
    "fav_fruits.append(\"banana\")\n",
    "#remove one fruit\n",
    "fav_fruits.remove(\"apple\")\n",
    "#print the final list\n",
    "print(fav_fruits)"
   ]
  },
  {
   "cell_type": "code",
   "execution_count": 7,
   "id": "5a6de687-80fd-4694-852a-672a3013458b",
   "metadata": {},
   "outputs": [],
   "source": [
    "#list of numbers\n",
    "nums = [1,2,3,4,5]\n",
    "#Square each number\n",
    "for i in nums:\n",
    "    i = i**2\n",
    "    if i/2 == 0:\n",
    "        print (i)"
   ]
  },
  {
   "cell_type": "code",
   "execution_count": null,
   "id": "0eec7d38-99e7-4461-bfb3-a3b38c999349",
   "metadata": {},
   "outputs": [],
   "source": []
  }
 ],
 "metadata": {
  "kernelspec": {
   "display_name": "ai-ml-90day",
   "language": "python",
   "name": "ai-ml-90day"
  },
  "language_info": {
   "codemirror_mode": {
    "name": "ipython",
    "version": 3
   },
   "file_extension": ".py",
   "mimetype": "text/x-python",
   "name": "python",
   "nbconvert_exporter": "python",
   "pygments_lexer": "ipython3",
   "version": "3.12.3"
  }
 },
 "nbformat": 4,
 "nbformat_minor": 5
}
