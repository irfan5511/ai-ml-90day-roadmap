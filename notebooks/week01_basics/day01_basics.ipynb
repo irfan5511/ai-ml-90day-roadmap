{
 "cells": [
  {
   "cell_type": "code",
   "execution_count": 2,
   "id": "4e0a18e9-03a7-40b7-a609-3ee8c014ffed",
   "metadata": {},
   "outputs": [
    {
     "name": "stdout",
     "output_type": "stream",
     "text": [
      "Hello, AI/ML Journey! 🚀\n"
     ]
    }
   ],
   "source": [
    "print(\"Hello, AI/ML Journey! 🚀\")\n"
   ]
  },
  {
   "cell_type": "code",
   "execution_count": 3,
   "id": "77b792fe-954b-4c85-8f24-3fe72bd5cff9",
   "metadata": {},
   "outputs": [
    {
     "name": "stdout",
     "output_type": "stream",
     "text": [
      "<class 'int'> <class 'float'> <class 'str'> <class 'bool'>\n"
     ]
    }
   ],
   "source": [
    "a = 42                # integer\n",
    "b = 3.14              # float\n",
    "name = \"Irfan\"        # string\n",
    "is_learning = True    # boolean\n",
    "\n",
    "print(type(a), type(b), type(name), type(is_learning))\n"
   ]
  },
  {
   "cell_type": "code",
   "execution_count": 5,
   "id": "818bf2bf-cde5-4b62-bd11-5b86fffaba27",
   "metadata": {},
   "outputs": [
    {
     "name": "stdout",
     "output_type": "stream",
     "text": [
      "x + y = 19\n",
      "x - y = 11\n",
      "x * y = 60\n",
      "x / y = 3.75\n",
      "x // y = 3\n",
      "x % y = 3\n",
      "x ** y = 50625\n"
     ]
    }
   ],
   "source": [
    "x = 15\n",
    "y = 4\n",
    "\n",
    "print(\"x + y =\", x + y)\n",
    "print(\"x - y =\", x - y)\n",
    "print(\"x * y =\", x * y)\n",
    "print(\"x / y =\", x / y)   # division (float)\n",
    "print(\"x // y =\", x // y) # floor division\n",
    "print(\"x % y =\", x % y)   # modulus\n",
    "print(\"x ** y =\", x ** y) # exponentiation\n"
   ]
  },
  {
   "cell_type": "code",
   "execution_count": 6,
   "id": "25b11e7f-4f1d-48b8-8c74-7223f30bbf28",
   "metadata": {},
   "outputs": [
    {
     "name": "stdout",
     "output_type": "stream",
     "text": [
      "Name: Irfan Ullah\n",
      "Age: 22\n",
      "Height (cm): 176\n",
      "Likes Python: True\n"
     ]
    }
   ],
   "source": [
    "# Variables\n",
    "name = \"Irfan Ullah\"\n",
    "age = 22\n",
    "height_cm = 176\n",
    "likes_python = True\n",
    "\n",
    "# Printing with labels\n",
    "print(\"Name:\", name)\n",
    "print(\"Age:\", age)\n",
    "print(\"Height (cm):\", height_cm)\n",
    "print(\"Likes Python:\", likes_python)\n"
   ]
  },
  {
   "cell_type": "code",
   "execution_count": null,
   "id": "05706d0d-683e-46ce-bbd8-8744d4236f65",
   "metadata": {},
   "outputs": [],
   "source": []
  }
 ],
 "metadata": {
  "kernelspec": {
   "display_name": "ai-ml-90day",
   "language": "python",
   "name": "ai-ml-90day"
  },
  "language_info": {
   "codemirror_mode": {
    "name": "ipython",
    "version": 3
   },
   "file_extension": ".py",
   "mimetype": "text/x-python",
   "name": "python",
   "nbconvert_exporter": "python",
   "pygments_lexer": "ipython3",
   "version": "3.12.3"
  }
 },
 "nbformat": 4,
 "nbformat_minor": 5
}
